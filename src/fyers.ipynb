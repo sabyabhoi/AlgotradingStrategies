{
 "cells": [
  {
   "cell_type": "code",
   "execution_count": 1,
   "metadata": {},
   "outputs": [],
   "source": [
    "from fyers_apiv3.FyersWebsocket import data_ws\n",
    "from datetime import datetime\n",
    "import datetime as dt\n",
    "from icecream import ic\n",
    "\n",
    "import sqlite3 as sql\n",
    "import utils\n",
    "\n",
    "import pandas as pd"
   ]
  },
  {
   "cell_type": "markdown",
   "metadata": {},
   "source": [
    "# Login Process\n"
   ]
  },
  {
   "cell_type": "code",
   "execution_count": 2,
   "metadata": {},
   "outputs": [
    {
     "name": "stdout",
     "output_type": "stream",
     "text": [
      "https://api-t1.fyers.in/api/v3/generate-authcode?client_id=KKSQ1PYF0H-100&redirect_uri=https%3A%2F%2Fsabyabhoi.xyz%2F&response_type=code&state=sample\n"
     ]
    }
   ],
   "source": [
    "access_token, fyers = utils.login(get_token=True)"
   ]
  },
  {
   "cell_type": "code",
   "execution_count": 3,
   "metadata": {},
   "outputs": [
    {
     "name": "stdout",
     "output_type": "stream",
     "text": [
      "eyJ0eXAiOiJKV1QiLCJhbGciOiJIUzI1NiJ9.eyJpc3MiOiJhcGkuZnllcnMuaW4iLCJpYXQiOjE3MDYzNzA1NTIsImV4cCI6MTcwNjQwMTgxMiwibmJmIjoxNzA2MzcwNTUyLCJhdWQiOlsieDowIiwieDoxIiwieDoyIiwiZDoxIiwiZDoyIiwieDoxIiwieDowIl0sInN1YiI6ImFjY2Vzc190b2tlbiIsImF0X2hhc2giOiJnQUFBQUFCbHRTWDRYU3gxeHF1TktiRExxTW5XamlFVzBBTXdOazJ4LVRQNTU4WkRid25veTdvSWVjaGloWFdCZXk5c0d4VkFrWlFsM3RSbWU3R0RLM092dFJvVVpqTG5NdTVueWhKZVJ4NUJvd3ptTURtcENGUT0iLCJkaXNwbGF5X25hbWUiOiJTQUJZQVNBQ0hJIEJIT0kiLCJvbXMiOiJLMSIsImhzbV9rZXkiOiIzMmY0ZGI2MGFlYmFmNjJiZTQxOWVkNDA1MDM4NzViYWMwN2JiODM4MTVlZjU2YzMxZTkzOTIxNSIsImZ5X2lkIjoiRFMwNTk2MiIsImFwcFR5cGUiOjEwMCwicG9hX2ZsYWciOiJOIn0.cg6Kw4maZaFgI5H37teD0LjkOOjhPKAlicGEssxrTYs\n"
     ]
    }
   ],
   "source": [
    "print(access_token)"
   ]
  },
  {
   "cell_type": "markdown",
   "metadata": {},
   "source": [
    "# Data API\n"
   ]
  },
  {
   "cell_type": "markdown",
   "metadata": {},
   "source": [
    "## Historical data\n"
   ]
  },
  {
   "cell_type": "code",
   "execution_count": 4,
   "metadata": {},
   "outputs": [
    {
     "data": {
      "text/html": [
       "<div>\n",
       "<style scoped>\n",
       "    .dataframe tbody tr th:only-of-type {\n",
       "        vertical-align: middle;\n",
       "    }\n",
       "\n",
       "    .dataframe tbody tr th {\n",
       "        vertical-align: top;\n",
       "    }\n",
       "\n",
       "    .dataframe thead th {\n",
       "        text-align: right;\n",
       "    }\n",
       "</style>\n",
       "<table border=\"1\" class=\"dataframe\">\n",
       "  <thead>\n",
       "    <tr style=\"text-align: right;\">\n",
       "      <th></th>\n",
       "      <th>Open</th>\n",
       "      <th>High</th>\n",
       "      <th>Low</th>\n",
       "      <th>Close</th>\n",
       "      <th>Volume</th>\n",
       "    </tr>\n",
       "    <tr>\n",
       "      <th>ts</th>\n",
       "      <th></th>\n",
       "      <th></th>\n",
       "      <th></th>\n",
       "      <th></th>\n",
       "      <th></th>\n",
       "    </tr>\n",
       "  </thead>\n",
       "  <tbody>\n",
       "    <tr>\n",
       "      <th>2019-02-04 03:45:00</th>\n",
       "      <td>282.40</td>\n",
       "      <td>282.45</td>\n",
       "      <td>279.55</td>\n",
       "      <td>280.85</td>\n",
       "      <td>991844</td>\n",
       "    </tr>\n",
       "    <tr>\n",
       "      <th>2019-02-04 03:50:00</th>\n",
       "      <td>280.85</td>\n",
       "      <td>284.30</td>\n",
       "      <td>280.10</td>\n",
       "      <td>282.80</td>\n",
       "      <td>798747</td>\n",
       "    </tr>\n",
       "    <tr>\n",
       "      <th>2019-02-04 03:55:00</th>\n",
       "      <td>282.85</td>\n",
       "      <td>283.00</td>\n",
       "      <td>281.30</td>\n",
       "      <td>281.95</td>\n",
       "      <td>372364</td>\n",
       "    </tr>\n",
       "    <tr>\n",
       "      <th>2019-02-04 04:00:00</th>\n",
       "      <td>281.95</td>\n",
       "      <td>282.00</td>\n",
       "      <td>281.20</td>\n",
       "      <td>281.50</td>\n",
       "      <td>324310</td>\n",
       "    </tr>\n",
       "    <tr>\n",
       "      <th>2019-02-04 04:05:00</th>\n",
       "      <td>281.35</td>\n",
       "      <td>281.80</td>\n",
       "      <td>280.00</td>\n",
       "      <td>280.00</td>\n",
       "      <td>474058</td>\n",
       "    </tr>\n",
       "    <tr>\n",
       "      <th>...</th>\n",
       "      <td>...</td>\n",
       "      <td>...</td>\n",
       "      <td>...</td>\n",
       "      <td>...</td>\n",
       "      <td>...</td>\n",
       "    </tr>\n",
       "    <tr>\n",
       "      <th>2024-01-25 09:35:00</th>\n",
       "      <td>610.40</td>\n",
       "      <td>612.70</td>\n",
       "      <td>610.40</td>\n",
       "      <td>612.65</td>\n",
       "      <td>1463474</td>\n",
       "    </tr>\n",
       "    <tr>\n",
       "      <th>2024-01-25 09:40:00</th>\n",
       "      <td>612.70</td>\n",
       "      <td>613.30</td>\n",
       "      <td>611.95</td>\n",
       "      <td>612.85</td>\n",
       "      <td>1205205</td>\n",
       "    </tr>\n",
       "    <tr>\n",
       "      <th>2024-01-25 09:45:00</th>\n",
       "      <td>612.90</td>\n",
       "      <td>613.50</td>\n",
       "      <td>612.55</td>\n",
       "      <td>613.00</td>\n",
       "      <td>1436920</td>\n",
       "    </tr>\n",
       "    <tr>\n",
       "      <th>2024-01-25 09:50:00</th>\n",
       "      <td>613.00</td>\n",
       "      <td>614.70</td>\n",
       "      <td>612.45</td>\n",
       "      <td>614.30</td>\n",
       "      <td>1355677</td>\n",
       "    </tr>\n",
       "    <tr>\n",
       "      <th>2024-01-25 09:55:00</th>\n",
       "      <td>614.30</td>\n",
       "      <td>617.00</td>\n",
       "      <td>613.20</td>\n",
       "      <td>615.00</td>\n",
       "      <td>1160681</td>\n",
       "    </tr>\n",
       "  </tbody>\n",
       "</table>\n",
       "<p>92196 rows × 5 columns</p>\n",
       "</div>"
      ],
      "text/plain": [
       "                       Open    High     Low   Close   Volume\n",
       "ts                                                          \n",
       "2019-02-04 03:45:00  282.40  282.45  279.55  280.85   991844\n",
       "2019-02-04 03:50:00  280.85  284.30  280.10  282.80   798747\n",
       "2019-02-04 03:55:00  282.85  283.00  281.30  281.95   372364\n",
       "2019-02-04 04:00:00  281.95  282.00  281.20  281.50   324310\n",
       "2019-02-04 04:05:00  281.35  281.80  280.00  280.00   474058\n",
       "...                     ...     ...     ...     ...      ...\n",
       "2024-01-25 09:35:00  610.40  612.70  610.40  612.65  1463474\n",
       "2024-01-25 09:40:00  612.70  613.30  611.95  612.85  1205205\n",
       "2024-01-25 09:45:00  612.90  613.50  612.55  613.00  1436920\n",
       "2024-01-25 09:50:00  613.00  614.70  612.45  614.30  1355677\n",
       "2024-01-25 09:55:00  614.30  617.00  613.20  615.00  1160681\n",
       "\n",
       "[92196 rows x 5 columns]"
      ]
     },
     "execution_count": 4,
     "metadata": {},
     "output_type": "execute_result"
    }
   ],
   "source": [
    "end = dt.date.today()\n",
    "start = end - dt.timedelta(weeks=52 * 5)\n",
    "ticker = \"SBIN\"\n",
    "df = utils.get_historical_data(fyers, ticker, \"5\", start, end)\n",
    "df"
   ]
  },
  {
   "cell_type": "code",
   "execution_count": 6,
   "metadata": {},
   "outputs": [],
   "source": [
    "df.to_parquet(f\"../res/data/{ticker}.parquet\")"
   ]
  }
 ],
 "metadata": {
  "kernelspec": {
   "display_name": "algotrading",
   "language": "python",
   "name": "python3"
  },
  "language_info": {
   "codemirror_mode": {
    "name": "ipython",
    "version": 3
   },
   "file_extension": ".py",
   "mimetype": "text/x-python",
   "name": "python",
   "nbconvert_exporter": "python",
   "pygments_lexer": "ipython3",
   "version": "3.10.13"
  }
 },
 "nbformat": 4,
 "nbformat_minor": 2
}
