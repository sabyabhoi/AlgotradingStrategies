{
 "cells": [
  {
   "cell_type": "code",
   "execution_count": 1,
   "metadata": {},
   "outputs": [],
   "source": [
    "from fyers_apiv3 import fyersModel\n",
    "from fyers_apiv3.FyersWebsocket import data_ws\n",
    "from datetime import datetime\n",
    "\n",
    "from dotenv import load_dotenv\n",
    "import os\n",
    "import sqlite3 as sql\n",
    "from utils import login"
   ]
  },
  {
   "cell_type": "markdown",
   "metadata": {},
   "source": [
    "# Login Process\n"
   ]
  },
  {
   "cell_type": "code",
   "execution_count": 2,
   "metadata": {},
   "outputs": [
    {
     "name": "stdout",
     "output_type": "stream",
     "text": [
      "https://api-t1.fyers.in/api/v3/generate-authcode?client_id=KKSQ1PYF0H-100&redirect_uri=https%3A%2F%2Fsabyabhoi.xyz%2F&response_type=code&state=sample\n"
     ]
    }
   ],
   "source": [
    "access_token, fyers = login()\n",
    "fyers.get_profile()"
   ]
  },
  {
   "cell_type": "code",
   "execution_count": 3,
   "metadata": {},
   "outputs": [
    {
     "data": {
      "text/plain": [
       "{'s': 'ok',\n",
       " 'code': 200,\n",
       " 'message': '',\n",
       " 'data': {'fy_id': 'DS05962',\n",
       "  'name': 'SABYASACHI BHOI',\n",
       "  'image': None,\n",
       "  'display_name': 'sabya',\n",
       "  'pin_change_date': '24-01-2024 10:24:23',\n",
       "  'email_id': 'sabyabhoi@gmail.com',\n",
       "  'pwd_change_date': '24-10-2021 14:39:07;90',\n",
       "  'PAN': '---------',\n",
       "  'mobile_number': '8527854263',\n",
       "  'totp': False,\n",
       "  'pwd_to_expire': 90}}"
      ]
     },
     "execution_count": 3,
     "metadata": {},
     "output_type": "execute_result"
    }
   ],
   "source": [
    "fyers.get_profile()"
   ]
  },
  {
   "cell_type": "code",
   "execution_count": null,
   "metadata": {},
   "outputs": [],
   "source": [
    "fyers_id = os.getenv(\"FYERS_ID\")\n",
    "redirect_url = os.getenv(\"REDIRECT_URL\")\n",
    "client_id = os.getenv(\"CLIENT_ID\")\n",
    "secret_key = os.getenv(\"SECRET_KEY\")\n",
    "grant_type = \"authorization_code\"\n",
    "response_type = \"code\"\n",
    "state = \"sample\""
   ]
  },
  {
   "cell_type": "code",
   "execution_count": 8,
   "metadata": {},
   "outputs": [],
   "source": [
    "appSession = fyersModel.SessionModel(\n",
    "    client_id=client_id,\n",
    "    redirect_uri=redirect_url,\n",
    "    response_type=response_type,\n",
    "    secret_key=secret_key,\n",
    "    grant_type=grant_type,\n",
    "    state=state,\n",
    ")"
   ]
  },
  {
   "cell_type": "code",
   "execution_count": 11,
   "metadata": {},
   "outputs": [
    {
     "data": {
      "text/plain": [
       "'https://api-t1.fyers.in/api/v3/generate-authcode?client_id=KKSQ1PYF0H-100&redirect_uri=https%3A%2F%2Fsabyabhoi.xyz%2F&response_type=code&state=sample'"
      ]
     },
     "execution_count": 11,
     "metadata": {},
     "output_type": "execute_result"
    }
   ],
   "source": [
    "generateTokenUrl = appSession.generate_authcode()\n",
    "generateTokenUrl"
   ]
  },
  {
   "cell_type": "code",
   "execution_count": 13,
   "metadata": {},
   "outputs": [],
   "source": [
    "auth_code = \"eyJ0eXAiOiJKV1QiLCJhbGciOiJIUzI1NiJ9.eyJpc3MiOiJhcGkubG9naW4uZnllcnMuaW4iLCJpYXQiOjE3MDYwODYxMDgsImV4cCI6MTcwNjExNjEwOCwibmJmIjoxNzA2MDg1NTA4LCJhdWQiOiJbXCJ4OjBcIiwgXCJ4OjFcIiwgXCJ4OjJcIiwgXCJkOjFcIiwgXCJkOjJcIiwgXCJ4OjFcIiwgXCJ4OjBcIl0iLCJzdWIiOiJhdXRoX2NvZGUiLCJkaXNwbGF5X25hbWUiOiJEUzA1OTYyIiwib21zIjoiSzEiLCJoc21fa2V5IjoiMzJmNGRiNjBhZWJhZjYyYmU0MTllZDQwNTAzODc1YmFjMDdiYjgzODE1ZWY1NmMzMWU5MzkyMTUiLCJub25jZSI6IiIsImFwcF9pZCI6IktLU1ExUFlGMEgiLCJ1dWlkIjoiYWQ1MTk5ZGU1NDY1NDA0MzlhODlmMWI4MDk1NDQ1ZDQiLCJpcEFkZHIiOiIwLjAuMC4wIiwic2NvcGUiOiIifQ.RRP08hs3rcqGVd9-irqQyXTz6f3KzL5v7oGzMtleHk0\""
   ]
  },
  {
   "cell_type": "code",
   "execution_count": 14,
   "metadata": {},
   "outputs": [],
   "source": [
    "appSession.set_token(auth_code)\n",
    "\n",
    "response = appSession.generate_token()"
   ]
  },
  {
   "cell_type": "code",
   "execution_count": 19,
   "metadata": {},
   "outputs": [],
   "source": [
    "try:\n",
    "    access_token = response[\"access_token\"]\n",
    "except Exception as e:\n",
    "    print(e, response)"
   ]
  },
  {
   "cell_type": "markdown",
   "metadata": {},
   "source": [
    "# Data API\n"
   ]
  },
  {
   "cell_type": "code",
   "execution_count": 16,
   "metadata": {},
   "outputs": [
    {
     "data": {
      "text/plain": [
       "{'s': 'ok',\n",
       " 'code': 200,\n",
       " 'message': '',\n",
       " 'data': {'fy_id': 'DS05962',\n",
       "  'name': 'SABYASACHI BHOI',\n",
       "  'image': None,\n",
       "  'display_name': 'sabya',\n",
       "  'pin_change_date': '24-01-2024 10:24:23',\n",
       "  'email_id': 'sabyabhoi@gmail.com',\n",
       "  'pwd_change_date': '24-10-2021 14:39:07;90',\n",
       "  'PAN': '---------',\n",
       "  'mobile_number': '8527854263',\n",
       "  'totp': False,\n",
       "  'pwd_to_expire': 90}}"
      ]
     },
     "execution_count": 16,
     "metadata": {},
     "output_type": "execute_result"
    }
   ],
   "source": [
    "fyers = fyersModel.FyersModel(token=access_token, is_async=False, client_id=client_id)\n",
    "\n",
    "fyers.get_profile()"
   ]
  },
  {
   "cell_type": "code",
   "execution_count": 52,
   "metadata": {},
   "outputs": [
    {
     "name": "stdout",
     "output_type": "stream",
     "text": [
      "NIFTY24J2517350CE\n"
     ]
    }
   ],
   "source": [
    "db = sql.connect(\"realtime.db\", check_same_thread=False)\n",
    "c = db.cursor()\n",
    "\n",
    "s = [\"NIFTY50\"]\n",
    "\n",
    "\n",
    "def create_table(tokens):\n",
    "    for t in tokens:\n",
    "        print(t)\n",
    "        c.execute(\n",
    "            f\"CREATE TABLE IF NOT EXISTS {t} (ts datetime primary key, price real(15, 5))\"\n",
    "        )\n",
    "\n",
    "    try:\n",
    "        db.commit()\n",
    "    except Exception as e:\n",
    "        print(e)\n",
    "        db.rollback()\n",
    "\n",
    "\n",
    "create_table(s)"
   ]
  },
  {
   "cell_type": "code",
   "execution_count": 68,
   "metadata": {},
   "outputs": [],
   "source": [
    "def onmessage(message):\n",
    "    \"\"\"\n",
    "    Callback function to handle incoming messages from the FyersDataSocket WebSocket.\n",
    "\n",
    "    Parameters:\n",
    "        message (dict): The received message from the WebSocket.\n",
    "\n",
    "    \"\"\"\n",
    "    current_time = datetime.now().strftime(\"%Y-%m-%d %H:%M:%S.%f\")[:-3]\n",
    "    query = f\"INSERT INTO {s[0]} VALUES('{current_time}', {message['ltp']})\"\n",
    "    print(query)\n",
    "\n",
    "    c.execute(query)"
   ]
  },
  {
   "cell_type": "code",
   "execution_count": 69,
   "metadata": {},
   "outputs": [],
   "source": [
    "def onerror(message):\n",
    "    \"\"\"\n",
    "    Callback function to handle WebSocket errors.\n",
    "\n",
    "    Parameters:\n",
    "        message (dict): The error message received from the WebSocket.\n",
    "\n",
    "\n",
    "    \"\"\"\n",
    "    print(\"Error:\", message)\n",
    "\n",
    "\n",
    "def onclose(message):\n",
    "    \"\"\"\n",
    "    Callback function to handle WebSocket connection close events.\n",
    "    \"\"\"\n",
    "    print(\"Connection closed:\", message)\n",
    "    try:\n",
    "        db.commit()\n",
    "    except Exception as e:\n",
    "        print(e)\n",
    "        db.rollback()\n",
    "\n",
    "\n",
    "def onopen():\n",
    "    \"\"\"\n",
    "    Callback function to subscribe to data type and symbols upon WebSocket connection.\n",
    "\n",
    "    \"\"\"\n",
    "    # Specify the data type and symbols you want to subscribe to\n",
    "    data_type = \"SymbolUpdate\"\n",
    "\n",
    "    # Subscribe to the specified symbols and data type\n",
    "    symbols = [\"NSE:NIFTY50-INDEX\"]\n",
    "    fyers.subscribe(symbols=symbols, data_type=data_type)\n",
    "    print(symbols)\n",
    "    # Keep the socket running to receive real-time data\n",
    "    fyers.keep_running()"
   ]
  },
  {
   "cell_type": "code",
   "execution_count": 70,
   "metadata": {},
   "outputs": [
    {
     "name": "stdout",
     "output_type": "stream",
     "text": [
      "Error: KeyError: The key 'ltp' is missing in the response.\n",
      "Error: KeyError: The key 'ltp' is missing in the response.\n",
      "['NSE:NIFTY50-INDEX']\n"
     ]
    },
    {
     "name": "stdout",
     "output_type": "stream",
     "text": [
      "Error: KeyError: The key 'ltp' is missing in the response.\n",
      "INSERT INTO NIFTY24J2517350CE VALUES('2024-01-24 15:31:28.966', 21465.9)\n",
      "INSERT INTO NIFTY24J2517350CE VALUES('2024-01-24 15:31:29.379', 21465.9)\n",
      "INSERT INTO NIFTY24J2517350CE VALUES('2024-01-24 15:31:30.380', 21465.9)\n",
      "INSERT INTO NIFTY24J2517350CE VALUES('2024-01-24 15:31:31.404', 21465.9)\n",
      "INSERT INTO NIFTY24J2517350CE VALUES('2024-01-24 15:31:32.380', 21465.9)\n",
      "INSERT INTO NIFTY24J2517350CE VALUES('2024-01-24 15:31:33.395', 21465.9)\n",
      "INSERT INTO NIFTY24J2517350CE VALUES('2024-01-24 15:31:34.389', 21465.9)\n",
      "INSERT INTO NIFTY24J2517350CE VALUES('2024-01-24 15:31:35.423', 21465.9)\n",
      "INSERT INTO NIFTY24J2517350CE VALUES('2024-01-24 15:31:36.391', 21465.9)\n",
      "INSERT INTO NIFTY24J2517350CE VALUES('2024-01-24 15:31:37.385', 21465.9)\n",
      "INSERT INTO NIFTY24J2517350CE VALUES('2024-01-24 15:31:38.387', 21465.9)\n",
      "INSERT INTO NIFTY24J2517350CE VALUES('2024-01-24 15:31:39.388', 21465.9)\n",
      "INSERT INTO NIFTY24J2517350CE VALUES('2024-01-24 15:31:40.679', 21465.9)\n",
      "INSERT INTO NIFTY24J2517350CE VALUES('2024-01-24 15:31:41.385', 21465.9)\n",
      "INSERT INTO NIFTY24J2517350CE VALUES('2024-01-24 15:31:42.397', 21465.9)\n",
      "INSERT INTO NIFTY24J2517350CE VALUES('2024-01-24 15:31:43.387', 21465.9)\n",
      "INSERT INTO NIFTY24J2517350CE VALUES('2024-01-24 15:31:44.388', 21465.9)\n",
      "INSERT INTO NIFTY24J2517350CE VALUES('2024-01-24 15:31:45.390', 21465.9)\n",
      "INSERT INTO NIFTY24J2517350CE VALUES('2024-01-24 15:31:46.388', 21465.9)\n",
      "INSERT INTO NIFTY24J2517350CE VALUES('2024-01-24 15:31:47.388', 21465.9)\n",
      "INSERT INTO NIFTY24J2517350CE VALUES('2024-01-24 15:31:48.396', 21465.9)\n",
      "INSERT INTO NIFTY24J2517350CE VALUES('2024-01-24 15:31:49.396', 21465.9)\n",
      "INSERT INTO NIFTY24J2517350CE VALUES('2024-01-24 15:31:50.390', 21465.9)\n",
      "INSERT INTO NIFTY24J2517350CE VALUES('2024-01-24 15:31:51.393', 21465.9)\n",
      "INSERT INTO NIFTY24J2517350CE VALUES('2024-01-24 15:31:52.391', 21465.9)\n",
      "INSERT INTO NIFTY24J2517350CE VALUES('2024-01-24 15:31:53.391', 21465.9)\n",
      "INSERT INTO NIFTY24J2517350CE VALUES('2024-01-24 15:31:54.395', 21465.9)\n",
      "INSERT INTO NIFTY24J2517350CE VALUES('2024-01-24 15:31:55.404', 21465.9)\n",
      "INSERT INTO NIFTY24J2517350CE VALUES('2024-01-24 15:31:56.395', 21465.9)\n",
      "INSERT INTO NIFTY24J2517350CE VALUES('2024-01-24 15:31:57.395', 21465.9)\n",
      "INSERT INTO NIFTY24J2517350CE VALUES('2024-01-24 15:31:58.401', 21465.9)\n",
      "INSERT INTO NIFTY24J2517350CE VALUES('2024-01-24 15:31:59.400', 21465.9)\n",
      "INSERT INTO NIFTY24J2517350CE VALUES('2024-01-24 15:32:00.402', 21465.9)\n",
      "INSERT INTO NIFTY24J2517350CE VALUES('2024-01-24 15:32:01.400', 21465.9)\n",
      "INSERT INTO NIFTY24J2517350CE VALUES('2024-01-24 15:32:02.418', 21465.9)\n",
      "INSERT INTO NIFTY24J2517350CE VALUES('2024-01-24 15:32:03.398', 21465.9)\n",
      "INSERT INTO NIFTY24J2517350CE VALUES('2024-01-24 15:32:04.404', 21465.9)\n",
      "INSERT INTO NIFTY24J2517350CE VALUES('2024-01-24 15:32:05.400', 21454.8)\n",
      "INSERT INTO NIFTY24J2517350CE VALUES('2024-01-24 15:32:06.413', 21453.95)\n",
      "INSERT INTO NIFTY24J2517350CE VALUES('2024-01-24 15:32:07.411', 21453.95)\n",
      "INSERT INTO NIFTY24J2517350CE VALUES('2024-01-24 15:32:08.404', 21453.95)\n",
      "INSERT INTO NIFTY24J2517350CE VALUES('2024-01-24 15:32:09.459', 21453.95)\n",
      "INSERT INTO NIFTY24J2517350CE VALUES('2024-01-24 15:32:10.443', 21453.95)\n",
      "INSERT INTO NIFTY24J2517350CE VALUES('2024-01-24 15:32:11.406', 21453.95)\n",
      "INSERT INTO NIFTY24J2517350CE VALUES('2024-01-24 15:32:12.409', 21453.95)\n",
      "INSERT INTO NIFTY24J2517350CE VALUES('2024-01-24 15:32:13.405', 21453.95)\n",
      "INSERT INTO NIFTY24J2517350CE VALUES('2024-01-24 15:32:14.425', 21453.95)\n",
      "INSERT INTO NIFTY24J2517350CE VALUES('2024-01-24 15:32:15.407', 21453.95)\n",
      "INSERT INTO NIFTY24J2517350CE VALUES('2024-01-24 15:32:16.409', 21453.95)\n",
      "INSERT INTO NIFTY24J2517350CE VALUES('2024-01-24 15:32:17.415', 21453.95)\n",
      "INSERT INTO NIFTY24J2517350CE VALUES('2024-01-24 15:32:18.412', 21453.95)\n",
      "INSERT INTO NIFTY24J2517350CE VALUES('2024-01-24 15:32:19.420', 21453.95)\n",
      "INSERT INTO NIFTY24J2517350CE VALUES('2024-01-24 15:32:20.414', 21453.95)\n",
      "INSERT INTO NIFTY24J2517350CE VALUES('2024-01-24 15:32:21.412', 21453.95)\n",
      "INSERT INTO NIFTY24J2517350CE VALUES('2024-01-24 15:32:22.413', 21453.95)\n",
      "INSERT INTO NIFTY24J2517350CE VALUES('2024-01-24 15:32:23.419', 21453.95)\n",
      "INSERT INTO NIFTY24J2517350CE VALUES('2024-01-24 15:32:24.423', 21453.95)\n",
      "INSERT INTO NIFTY24J2517350CE VALUES('2024-01-24 15:32:25.415', 21453.95)\n",
      "INSERT INTO NIFTY24J2517350CE VALUES('2024-01-24 15:32:26.416', 21453.95)\n",
      "INSERT INTO NIFTY24J2517350CE VALUES('2024-01-24 15:32:27.423', 21453.95)\n",
      "INSERT INTO NIFTY24J2517350CE VALUES('2024-01-24 15:32:28.416', 21453.95)\n",
      "INSERT INTO NIFTY24J2517350CE VALUES('2024-01-24 15:32:29.417', 21453.95)\n",
      "INSERT INTO NIFTY24J2517350CE VALUES('2024-01-24 15:32:30.421', 21453.95)\n",
      "INSERT INTO NIFTY24J2517350CE VALUES('2024-01-24 15:32:31.436', 21453.95)\n",
      "INSERT INTO NIFTY24J2517350CE VALUES('2024-01-24 15:32:32.729', 21453.95)\n",
      "INSERT INTO NIFTY24J2517350CE VALUES('2024-01-24 15:32:33.444', 21453.95)\n",
      "INSERT INTO NIFTY24J2517350CE VALUES('2024-01-24 15:32:34.424', 21453.95)\n",
      "INSERT INTO NIFTY24J2517350CE VALUES('2024-01-24 15:32:35.428', 21453.95)\n",
      "Connection closed: {'code': 200, 'message': 'Connection Closed', 's': 'ok'}\n"
     ]
    }
   ],
   "source": [
    "# Create a FyersDataSocket instance with the provided parameters\n",
    "fyers = data_ws.FyersDataSocket(\n",
    "    access_token=access_token,  # Access token in the format \"appid:accesstoken\"\n",
    "    log_path=\"\",  # Path to save logs. Leave empty to auto-create logs in the current directory.\n",
    "    litemode=True,  # Lite mode disabled. Set to True if you want a lite response.\n",
    "    write_to_file=False,  # Save response in a log file instead of printing it.\n",
    "    reconnect=True,  # Enable auto-reconnection to WebSocket on disconnection.\n",
    "    on_connect=onopen,  # Callback function to subscribe to data upon connection.\n",
    "    on_close=onclose,  # Callback function to handle WebSocket connection close events.\n",
    "    on_error=onerror,  # Callback function to handle WebSocket errors.\n",
    "    on_message=onmessage,  # Callback function to handle incoming messages from the WebSocket.\n",
    ")\n",
    "\n",
    "# Establish a connection to the Fyers WebSocket\n",
    "fyers.connect()"
   ]
  },
  {
   "cell_type": "code",
   "execution_count": 71,
   "metadata": {},
   "outputs": [],
   "source": [
    "fyers.close_connection()"
   ]
  }
 ],
 "metadata": {
  "kernelspec": {
   "display_name": "algotrading",
   "language": "python",
   "name": "python3"
  },
  "language_info": {
   "codemirror_mode": {
    "name": "ipython",
    "version": 3
   },
   "file_extension": ".py",
   "mimetype": "text/x-python",
   "name": "python",
   "nbconvert_exporter": "python",
   "pygments_lexer": "ipython3",
   "version": "3.11.6"
  }
 },
 "nbformat": 4,
 "nbformat_minor": 2
}
